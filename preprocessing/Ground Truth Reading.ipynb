{
 "cells": [
  {
   "cell_type": "code",
   "execution_count": null,
   "metadata": {},
   "outputs": [],
   "source": [
    "from operator import index\n",
    "from torch.utils.data import Dataset, DataLoader\n",
    "from torchvision import datasets, transforms\n",
    "import pandas as pd\n",
    "import os\n",
    "import matplotlib.pyplot as plt\n",
    "import numpy as np\n",
    "from PIL import Image\n",
    "\n",
    "\n",
    "directory = os.chdir('C:\\\\Users\\\\z004b1tz\\\\Desktop\\\\Master Thesis Project\\\\Dataset\\\\Images')\n",
    "dat=[]\n",
    "for filename in os.listdir(directory):\n",
    "    if filename.endswith(\".csv\"):\n",
    "        ground = os.fsdecode(filename)\n",
    "        image_data= {\"filename\": filename.replace(\".raw.csv\", \".PNG\"), \"ground_truth\":[], \"label\" : \"wire\"}\n",
    "        cells = pd.read_csv(ground, sep='\\t', header=None , engine = 'python')\n",
    "        for idx,row in cells.iterrows():\n",
    "            x1 = row.iloc[0]\n",
    "            y1 = row.iloc[1]\n",
    "            x2 = row.iloc[2]\n",
    "            y2 = row.iloc[3]\n",
    "            K_wire = {\"start\": (x1,y1) , \"end\": (x2, y2)}\n",
    "            image_data[\"ground_truth\"].append(K_wire)\n",
    "        dat.append(image_data)"
   ]
  },
  {
   "cell_type": "code",
   "execution_count": null,
   "metadata": {},
   "outputs": [],
   "source": [
    "dat"
   ]
  },
  {
   "cell_type": "code",
   "execution_count": null,
   "metadata": {},
   "outputs": [],
   "source": [
    "with open('C:\\\\Users\\\\z004b1tz\\\\Desktop\\\\Master Thesis Project\\\\Mask RCNN\\\\Dataset\\\\Images\\\\Ground truth.json', 'w+') as jsonfile:\n",
    "    jsonfile.write(str(dat))"
   ]
  },
  {
   "cell_type": "code",
   "execution_count": null,
   "metadata": {},
   "outputs": [],
   "source": [
    "import json\n",
    "\n",
    "with open('C:\\\\Users\\\\z004b1tz\\\\Desktop\\\\Master Thesis Project\\\\Mask RCNN\\\\Dataset\\\\Images\\\\Ground truth.json', 'w') as fout:\n",
    "    json.dump(str(dat) , fout)"
   ]
  },
  {
   "cell_type": "code",
   "execution_count": null,
   "metadata": {},
   "outputs": [],
   "source": [
    "import pandas as pd\n",
    "import shutil\n",
    "import os\n",
    "\n",
    "path = 'C:\\\\Users\\\\z004b1tz\\\\Desktop\\\\Master Thesis Project\\\\5 Layer Binary UNET\\\\Dataset\\\\output\\\\predictions\\\\predictions 700x700'\n",
    "\n",
    "for file in os.listdir(path):\n",
    "    if file.endswith('.PNG'):\n",
    "        filename = os.fsdecode(file)\n",
    "        filename = filename.replace(\".PNG\", \".raw.csv\")\n",
    "        shutil.copy('C:\\\\Users\\\\z004b1tz\\\\Desktop\\\\Master Thesis Project\\\\ground\\\\'+filename, path)"
   ]
  },
  {
   "cell_type": "code",
   "execution_count": 3,
   "metadata": {},
   "outputs": [],
   "source": [
    "import os\n",
    "import glob\n",
    "\n",
    "directory = r'C:\\Users\\z004b1tz\\Desktop\\Master Thesis Project\\Mask RCNN\\Dataset\\Images'\n",
    "\n",
    "# Get a list of all the CSV files in the directory\n",
    "csv_files = glob.glob(os.path.join(directory, '*.PNG'))\n",
    "\n",
    "# Remove each file\n",
    "for csv_file in csv_files:\n",
    "    os.remove(csv_file)"
   ]
  },
  {
   "cell_type": "code",
   "execution_count": 4,
   "metadata": {},
   "outputs": [],
   "source": [
    "import os\n",
    "import glob\n",
    "import shutil\n",
    "\n",
    "src_dir = 'C:\\\\Users\\\\z004b1tz\\\\Desktop\\\\Master Thesis Project\\\\Dataset\\\\Images'\n",
    "dst_dir = 'C:\\\\Users\\\\z004b1tz\\\\Desktop\\\\Master Thesis Project\\\\Mask RCNN\\\\Dataset\\\\Images'\n",
    "\n",
    "for file in os.listdir(dst_dir):\n",
    "    if file.endswith('.PNG'):\n",
    "        filename = os.fsdecode(file)\n",
    "        filename = filename.replace(\".PNG\", \".raw.csv\")\n",
    "        shutil.copy(src_dir+'\\\\'+filename, dst_dir+'\\\\'+filename)"
   ]
  },
  {
   "cell_type": "code",
   "execution_count": null,
   "metadata": {},
   "outputs": [],
   "source": []
  }
 ],
 "metadata": {
  "interpreter": {
   "hash": "a5c4e7b7423c1e582036002b952a0563c8b69bc6ec358263c38241641fc39b17"
  },
  "kernelspec": {
   "display_name": "Python 3 (ipykernel)",
   "language": "python",
   "name": "python3"
  },
  "language_info": {
   "codemirror_mode": {
    "name": "ipython",
    "version": 3
   },
   "file_extension": ".py",
   "mimetype": "text/x-python",
   "name": "python",
   "nbconvert_exporter": "python",
   "pygments_lexer": "ipython3",
   "version": "3.9.13"
  }
 },
 "nbformat": 4,
 "nbformat_minor": 2
}
