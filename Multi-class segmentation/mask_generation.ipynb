{
 "cells": [
  {
   "cell_type": "code",
   "execution_count": 2,
   "id": "c5b74ea1",
   "metadata": {},
   "outputs": [],
   "source": [
    "import multi_class_mask\n",
    "import os\n",
    "from PIL import Image\n",
    "import matplotlib.pyplot as plt\n",
    "from torchvision.utils import save_image\n",
    "import numpy\n",
    "\n",
    "path = os.chdir('C:\\\\Users\\\\lenovo\\\\Desktop\\\\Master Thesis Project\\\\Dataset\\\\Mask')\n",
    "for file in os.listdir(path):\n",
    "    filename = os.fsdecode(file)\n",
    "    img = Image.open(filename)\n",
    "    mask = multi_class_mask.multi_mask(img)\n",
    "    save_image(mask, 'C:\\\\Users\\\\lenovo\\\\Desktop\\\\Master Thesis Project\\\\Dataset\\\\seg\\\\'+filename)"
   ]
  },
  {
   "cell_type": "code",
   "execution_count": null,
   "id": "a6c22598",
   "metadata": {},
   "outputs": [],
   "source": []
  }
 ],
 "metadata": {
  "kernelspec": {
   "display_name": "Python 3 (ipykernel)",
   "language": "python",
   "name": "python3"
  },
  "language_info": {
   "codemirror_mode": {
    "name": "ipython",
    "version": 3
   },
   "file_extension": ".py",
   "mimetype": "text/x-python",
   "name": "python",
   "nbconvert_exporter": "python",
   "pygments_lexer": "ipython3",
   "version": "3.9.13"
  }
 },
 "nbformat": 4,
 "nbformat_minor": 5
}
