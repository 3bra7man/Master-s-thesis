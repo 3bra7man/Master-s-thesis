{
 "cells": [
  {
   "cell_type": "markdown",
   "id": "10d94cc4",
   "metadata": {},
   "source": [
    "# Analysis of the no. of wires in the data"
   ]
  },
  {
   "cell_type": "code",
   "execution_count": null,
   "id": "40623b71",
   "metadata": {},
   "outputs": [],
   "source": [
    "import pandas as pd\n",
    "import shutil\n",
    "import os\n",
    "\n",
    "path = 'C:\\\\Users\\\\z004b1tz\\\\Desktop\\\\Master Thesis Project\\\\5 Layer Binary UNET\\\\Dataset\\\\output\\\\Skeletonized_976'\n",
    "\n",
    "one_wire = 0\n",
    "two_wires = 0\n",
    "three_wires = 0\n",
    "four_wires = 0\n",
    "five_wires = 0\n",
    "Multi_wires = 0\n",
    "\n",
    "for file in os.listdir(path):\n",
    "    if file.endswith('.csv'):\n",
    "        filename = os.fsdecode(file)\n",
    "        cells = pd.read_csv(path+'\\\\'+filename, sep='\\t', header=None , engine = 'python')\n",
    "        if len(cells) == 1:\n",
    "            filename = filename.replace('.raw.csv' , '.PNG')\n",
    "#             shutil.copy(path+'\\\\'+filename, \"C:\\\\Users\\\\z004b1tz\\\\Desktop\\\\Master Thesis Project\\\\Dataset\\\\trial\\\\Images\\\\1wire\")\n",
    "            one_wire += 1\n",
    "        elif len(cells) == 2:\n",
    "            filename = filename.replace('.raw.csv' , '.PNG')\n",
    "#             shutil.copy(path+'\\\\'+filename, \"C:\\\\Users\\\\z004b1tz\\\\Desktop\\\\Master Thesis Project\\\\Dataset\\\\trial\\\\Images\\\\2wire\")\n",
    "            two_wires += 1\n",
    "        elif len(cells) == 3:\n",
    "            filename = filename.replace('.raw.csv' , '.PNG')\n",
    "#             shutil.copy(path+'\\\\'+filename, \"C:\\\\Users\\\\z004b1tz\\\\Desktop\\\\Master Thesis Project\\\\Dataset\\\\trial\\\\Images\\\\3wire\")\n",
    "            three_wires += 1\n",
    "        elif len(cells) == 4:\n",
    "            filename = filename.replace('.raw.csv' , '.PNG')\n",
    "#             shutil.copy(path+'\\\\'+filename, \"C:\\\\Users\\\\z004b1tz\\\\Desktop\\\\Master Thesis Project\\\\Dataset\\\\trial\\\\Images\\\\4wire\")\n",
    "            four_wires += 1\n",
    "        elif len(cells) == 5:\n",
    "            filename = filename.replace('.raw.csv' , '.PNG')\n",
    "#             shutil.copy(path+'\\\\'+filename, \"C:\\\\Users\\\\z004b1tz\\\\Desktop\\\\Master Thesis Project\\\\Dataset\\\\trial\\\\Images\\\\5wire\")\n",
    "            five_wires += 1\n",
    "        elif len(cells) > 5:\n",
    "            filename = filename.replace('.raw.csv' , '.PNG')\n",
    "#             shutil.copy(path+'\\\\'+filename, \"C:\\\\Users\\\\z004b1tz\\\\Desktop\\\\Master Thesis Project\\\\Dataset\\\\trial\\\\Images\\\\Multi_wire\")\n",
    "            Multi_wires += 1\n",
    "\n",
    "d = {'#Wires' : ['1 Wire' , '2 Wires' , '3 Wires' , '4 Wires' , '5 Wires' , 'Multiple_Wires'] , \n",
    "     '#Images' : [one_wire, two_wires, three_wires, four_wires, five_wires , Multi_wires]}\n",
    "\n",
    "df = pd.DataFrame(data = d)\n",
    "\n",
    "df.plot(x='#Wires', y='#Images', kind='bar')"
   ]
  },
  {
   "cell_type": "code",
   "execution_count": null,
   "id": "bd203e18",
   "metadata": {},
   "outputs": [],
   "source": [
    "import pandas as pd\n",
    "import shutil\n",
    "import os\n",
    "\n",
    "path = 'C:\\\\Users\\\\z004b1tz\\\\Desktop\\\\Master Thesis Project\\\\5 Layer Binary UNET\\\\Dataset\\\\output\\\\predictions\\\\predictions'\n",
    "\n",
    "for file in os.listdir(path):\n",
    "    if file.endswith('.PNG'):\n",
    "        filename = os.fsdecode(file)\n",
    "        filename = filename.replace(\".PNG\", \".raw.csv\")\n",
    "        shutil.copy('C:\\\\Users\\\\z004b1tz\\\\Desktop\\\\Master Thesis Project\\\\5 Layer Binary UNET\\\\Dataset\\\\Images\\\\'+filename, path)"
   ]
  },
  {
   "cell_type": "markdown",
   "id": "bd11047c",
   "metadata": {},
   "source": [
    "# Analysis of the wire/background ratio"
   ]
  },
  {
   "cell_type": "code",
   "execution_count": null,
   "id": "f5ec6059",
   "metadata": {},
   "outputs": [],
   "source": [
    "from PIL import Image\n",
    "import os\n",
    "import matplotlib.pyplot as plt\n",
    "import numpy as np\n",
    "import pandas as pd\n",
    "import cv2\n",
    "\n",
    "mask_path = 'C:\\\\Users\\\\z004b1tz\\\\Desktop\\\\Master Thesis Project\\\\Dataset\\\\Masks'\n",
    "Background_wire_ratio = []\n",
    "os.listdir(mask_path)\n",
    "for file in os.listdir(mask_path):\n",
    "    filename = os.fsdecode(file)\n",
    "    img = cv2.imread(mask_path+'\\\\'+filename , 0)\n",
    "    b,w = 0,0\n",
    "    for i in range(img.shape[0]):\n",
    "        for j in range(img.shape[1]):\n",
    "            if img[i,j] == 255:\n",
    "                w += 1\n",
    "            elif img[i,j] == 0:\n",
    "                b += 1\n",
    "    ratio = (w/b)\n",
    "    Background_wire_ratio.append(ratio)\n",
    "\n",
    "df = pd.DataFrame(Background_wire_ratio)\n",
    "plt.style.use('ggplot')\n",
    "plt.hist(df, density=False, bins=len(os.listdir(mask_path)))  # density=False would make counts\n",
    "plt.ylabel('Probability')\n",
    "plt.xlabel('Wire/Background Ratio');"
   ]
  },
  {
   "cell_type": "code",
   "execution_count": null,
   "id": "79d225ee",
   "metadata": {},
   "outputs": [],
   "source": [
    "from torchvision.io import read_image\n",
    "import pandas as pd\n",
    "import os\n",
    "import matplotlib.pyplot as plt\n",
    "import numpy as np\n",
    "import cv2\n",
    "import albumentations as A\n",
    "import random\n",
    "\n",
    "image_path = 'C:\\\\Users\\\\z004b1tz\\\\Desktop\\\\Master Thesis Project\\\\Dataset\\\\Images'\n",
    "mask_path = 'C:\\\\Users\\\\z004b1tz\\\\Desktop\\\\Master Thesis Project\\\\Dataset\\\\Images'\n",
    "\n",
    "image = read_image(image_path)\n",
    "mask = read_image(mask_path)\n",
    "\n",
    "def visualize(image, mask, original_image=None, original_mask=None):\n",
    "    fontsize = 18\n",
    "    \n",
    "    if original_image is None and original_mask is None:\n",
    "        f, ax = plt.subplots(2, 1, figsize=(8, 8))\n",
    "\n",
    "        ax[0].imshow(image)\n",
    "        ax[1].imshow(mask)\n",
    "    else:\n",
    "        f, ax = plt.subplots(2, 2, figsize=(8, 8))\n",
    "\n",
    "        ax[0, 0].imshow(original_image)\n",
    "        ax[0, 0].set_title('Original image', fontsize=fontsize)\n",
    "        \n",
    "        ax[1, 0].imshow(original_mask)\n",
    "        ax[1, 0].set_title('Original mask', fontsize=fontsize)\n",
    "        \n",
    "        ax[0, 1].imshow(image)\n",
    "        ax[0, 1].set_title('Transformed image', fontsize=fontsize)\n",
    "        \n",
    "        ax[1, 1].imshow(mask)\n",
    "        ax[1, 1].set_title('Transformed mask', fontsize=fontsize)\n",
    "        \n",
    "print(image.shape, mask.shape)\n",
    "original_height, original_width = image.shape[:2]\n",
    "visualize(image,mask)"
   ]
  },
  {
   "cell_type": "code",
   "execution_count": null,
   "id": "e0b43dfa",
   "metadata": {},
   "outputs": [],
   "source": [
    "aug_h = A.HorizontalFlip(p=1)\n",
    "augmented_h = aug_h(image=image, mask=mask)\n",
    "\n",
    "aug_v = A.VerticalFlip(p=1)\n",
    "augmented_v = aug_v(image=image, mask=mask)\n",
    "\n",
    "image_h = augmented_h['image']\n",
    "mask_h = augmented_h['mask']\n",
    "\n",
    "image_v = augmented_v['image']\n",
    "mask_v = augmented_v['mask']\n",
    "\n",
    "visualize(image_h, mask_h, image_v, mask_v)"
   ]
  },
  {
   "cell_type": "code",
   "execution_count": null,
   "id": "bcbd7b32",
   "metadata": {
    "scrolled": true
   },
   "outputs": [],
   "source": [
    "import torch\n",
    "model = torch.hub.load('mateuszbuda/brain-segmentation-pytorch', 'unet',\n",
    "    in_channels=3, out_channels=1, init_features=32, pretrained=True)\n",
    "\n",
    "model"
   ]
  },
  {
   "cell_type": "code",
   "execution_count": null,
   "id": "28126941",
   "metadata": {},
   "outputs": [],
   "source": [
    "import matplotlib.pyplot as plt\n",
    "\n",
    "%matplotlib inline\n",
    "\n",
    "fig, axs = plt.subplots(nrows=5, ncols=2)\n",
    "print(axs.shape)\n",
    "axs"
   ]
  },
  {
   "cell_type": "code",
   "execution_count": 1,
   "id": "35a884c3",
   "metadata": {},
   "outputs": [
    {
     "data": {
      "image/png": "[encoded data removed]",
      "text/plain": [
       "<Figure size 640x480 with 1 Axes>"
      ]
     },
     "metadata": {},
     "output_type": "display_data"
    }
   ],
   "source": [
    "import matplotlib.pyplot as plt\n",
    "import numpy as np\n",
    "import os\n",
    "import cv2\n",
    "\n",
    "# List of class names\n",
    "class_names = ['Background', 'K-wire']\n",
    "\n",
    "# Folder containing the masks\n",
    "folder = 'C:\\\\Users\\\\z004b1tz\\\\Desktop\\\\Master Thesis Project\\\\5 Layer Binary UNET\\\\Dataset\\\\Masks'\n",
    "# Read masks from the folder and convert them to arrays\n",
    "masks = []\n",
    "for filename in os.listdir(folder):\n",
    "    mask = cv2.imread(folder+'\\\\'+filename, 0)\n",
    "    mask = mask.astype(float) / 255\n",
    "    masks.append(mask)\n",
    "\n",
    "# Calculate class distribution\n",
    "class_counts = np.zeros(len(class_names))\n",
    "for mask in masks:\n",
    "    unique, counts = np.unique(mask, return_counts=True)\n",
    "    for cls, count in zip(unique, counts):\n",
    "        class_counts[int(cls)] += count\n",
    "\n",
    "# Plot class distribution\n",
    "plt.bar(class_names, class_counts)\n",
    "plt.xlabel('Class')\n",
    "plt.ylabel('Pixel Count')\n",
    "plt.title('Class Distribution')\n",
    "plt.show()"
   ]
  },
  {
   "cell_type": "code",
   "execution_count": 5,
   "id": "bf504a17",
   "metadata": {},
   "outputs": [
    {
     "data": {
      "image/png": "[encoded data removed]",
      "text/plain": [
       "<Figure size 640x480 with 1 Axes>"
      ]
     },
     "metadata": {},
     "output_type": "display_data"
    }
   ],
   "source": [
    "import matplotlib.pyplot as plt\n",
    "import numpy as np\n",
    "import os\n",
    "from skimage import io\n",
    "\n",
    "# List of class names\n",
    "class_names = ['Background', 'K-wire', 'Tip']\n",
    "\n",
    "# Folder containing the masks\n",
    "folder = 'C:\\\\Users\\\\z004b1tz\\\\Desktop\\\\Master Thesis Project\\\\Multi-class UNET\\\\Dataset\\\\Masks'\n",
    "\n",
    "# Read masks from the folder and convert them to arrays\n",
    "masks = []\n",
    "for filename in os.listdir(folder):\n",
    "    if filename.endswith('.PNG'):\n",
    "        mask = cv2.imread(folder+'\\\\'+filename)\n",
    "        masks.append(mask)\n",
    "\n",
    "# Calculate class distribution\n",
    "class_counts = np.zeros(len(class_names))\n",
    "for mask in masks:\n",
    "    unique, counts = np.unique(mask, return_counts=True)\n",
    "    for cls, count in zip(unique, counts):\n",
    "        class_counts[int(cls)] += count\n",
    "\n",
    "# Calculate total number of pixels\n",
    "total_pixels = np.sum(class_counts)\n",
    "\n",
    "# Calculate class distribution in percentage\n",
    "class_distribution = (class_counts / total_pixels) * 100\n",
    "\n",
    "# Plot class distribution\n",
    "plt.bar(class_names, class_distribution)\n",
    "plt.xlabel('Class')\n",
    "plt.ylabel('Pixel Percentage')\n",
    "plt.title('Class Distribution')\n",
    "plt.show()\n"
   ]
  },
  {
   "cell_type": "code",
   "execution_count": 6,
   "id": "939ee822",
   "metadata": {},
   "outputs": [
    {
     "data": {
      "text/plain": [
       "array([9.87469612e+01, 1.23303180e+00, 2.00070332e-02])"
      ]
     },
     "execution_count": 6,
     "metadata": {},
     "output_type": "execute_result"
    }
   ],
   "source": [
    "class_distribution"
   ]
  },
  {
   "cell_type": "code",
   "execution_count": null,
   "id": "cf53a38f",
   "metadata": {},
   "outputs": [],
   "source": []
  }
 ],
 "metadata": {
  "kernelspec": {
   "display_name": "Python 3 (ipykernel)",
   "language": "python",
   "name": "python3"
  },
  "language_info": {
   "codemirror_mode": {
    "name": "ipython",
    "version": 3
   },
   "file_extension": ".py",
   "mimetype": "text/x-python",
   "name": "python",
   "nbconvert_exporter": "python",
   "pygments_lexer": "ipython3",
   "version": "3.9.13"
  }
 },
 "nbformat": 4,
 "nbformat_minor": 5
}
