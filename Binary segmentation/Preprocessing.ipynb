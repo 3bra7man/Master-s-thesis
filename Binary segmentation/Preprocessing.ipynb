{
 "cells": [
  {
   "cell_type": "code",
   "execution_count": 1,
   "id": "116f22e7",
   "metadata": {},
   "outputs": [],
   "source": [
    "from PIL import Image, ImageEnhance\n",
    "import os\n",
    "from imutils import paths\n",
    "\n",
    "directory = os.chdir('C:\\\\Users\\\\z004b1tz\\\\Desktop\\\\Master Thesis Project\\\\Dataset\\\\Images')\n",
    "for file in os.listdir(directory):\n",
    "    if file.endswith('.PNG'):\n",
    "        filename = os.fsdecode(file)\n",
    "        #read the image\n",
    "        im = Image.open(filename)\n",
    "\n",
    "        #image brightness enhancer\n",
    "        enhancer = ImageEnhance.Brightness(im)\n",
    "\n",
    "        factor = 2.0 #brightens the image\n",
    "        im_output = enhancer.enhance(factor)\n",
    "        im_output.save('C:\\\\Users\\\\z004b1tz\\\\Desktop\\\\Master Thesis Project\\\\Dataset\\\\New folder\\\\'+filename)"
   ]
  },
  {
   "cell_type": "code",
   "execution_count": null,
   "id": "f113292c",
   "metadata": {},
   "outputs": [],
   "source": []
  }
 ],
 "metadata": {
  "kernelspec": {
   "display_name": "Python 3 (ipykernel)",
   "language": "python",
   "name": "python3"
  },
  "language_info": {
   "codemirror_mode": {
    "name": "ipython",
    "version": 3
   },
   "file_extension": ".py",
   "mimetype": "text/x-python",
   "name": "python",
   "nbconvert_exporter": "python",
   "pygments_lexer": "ipython3",
   "version": "3.9.13"
  }
 },
 "nbformat": 4,
 "nbformat_minor": 5
}
